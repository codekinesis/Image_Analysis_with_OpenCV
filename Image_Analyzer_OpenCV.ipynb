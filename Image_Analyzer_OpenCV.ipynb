{
  "nbformat": 4,
  "nbformat_minor": 0,
  "metadata": {
    "colab": {
      "provenance": [],
      "authorship_tag": "ABX9TyM+l+RhTv0EHskQksjmF4q8",
      "include_colab_link": true
    },
    "kernelspec": {
      "name": "python3",
      "display_name": "Python 3"
    },
    "language_info": {
      "name": "python"
    }
  },
  "cells": [
    {
      "cell_type": "markdown",
      "metadata": {
        "id": "view-in-github",
        "colab_type": "text"
      },
      "source": [
        "<a href=\"https://colab.research.google.com/github/codekinesis/image_analyzer/blob/main/Image_Analyzer_OpenCV.ipynb\" target=\"_parent\"><img src=\"https://colab.research.google.com/assets/colab-badge.svg\" alt=\"Open In Colab\"/></a>"
      ]
    },
    {
      "cell_type": "markdown",
      "source": [
        "Image Analyzer Program using OpenCV.  The following code will detect edges in an image."
      ],
      "metadata": {
        "id": "_fiunzoPYMKG"
      }
    },
    {
      "cell_type": "code",
      "execution_count": null,
      "metadata": {
        "id": "4ruZhOiaTtM_"
      },
      "outputs": [],
      "source": [
        "!pip install opencv-contrib-python==4.9.0.80"
      ]
    },
    {
      "cell_type": "code",
      "source": [
        "import cv2\n",
        "\n",
        "!wget \"https://scontent-lax3-2.xx.fbcdn.net/v/t39.30808-6/313341562_572363321559545_7264443318531826572_n.jpg?_nc_cat=106&ccb=1-7&_nc_sid=5f2048&_nc_ohc=h8c5US9gy2oAX9gL1Uh&_nc_ht=scontent-lax3-2.xx&oh=00_AfBrQYVF0A_PtWItlihtqhuZham5GU0amy3iu-9Cze6sMA&oe=66086911\""
      ],
      "metadata": {
        "id": "c5DSb6WvVHv1"
      },
      "execution_count": null,
      "outputs": []
    },
    {
      "cell_type": "code",
      "source": [
        "image = cv2.imread(\"313341562_572363321559545_7264443318531826572_n.jpg?_nc_cat=106&ccb=1-7&_nc_sid=5f2048&_nc_ohc=h8c5US9gy2oAX9gL1Uh&_nc_ht=scontent-lax3-2.xx&oh=00_AfBrQYVF0A_PtWItlihtqhuZham5GU0amy3iu-9Cze6sMA&oe=66086911\")"
      ],
      "metadata": {
        "id": "l81GXjh6V5xx"
      },
      "execution_count": null,
      "outputs": []
    },
    {
      "cell_type": "code",
      "source": [
        "import matplotlib.pyplot as pyplot\n",
        "pyplot.rcParams[\"figure.figsize\"] = (5, 5)\n",
        "\n",
        "pyplot.imshow(image)"
      ],
      "metadata": {
        "id": "zupwih2oVuqH"
      },
      "execution_count": null,
      "outputs": []
    },
    {
      "cell_type": "code",
      "source": [
        "detected_edges = cv2.Canny(image, 100, 100)\n",
        "\n",
        "pyplot.imshow(detected_edges)"
      ],
      "metadata": {
        "id": "Uf7U43VSXAJ8"
      },
      "execution_count": null,
      "outputs": []
    },
    {
      "cell_type": "code",
      "source": [
        "from google.colab.patches import cv2_imshow\n",
        "\n",
        "cv2_imshow(detected_edges)"
      ],
      "metadata": {
        "id": "PYVbu1-cXPTO"
      },
      "execution_count": null,
      "outputs": []
    },
    {
      "cell_type": "code",
      "source": [
        "inverted_image = 255 - detected_edges\n",
        "\n",
        "cv2_imshow(inverted_image)"
      ],
      "metadata": {
        "id": "fuH4EMJNXccr"
      },
      "execution_count": null,
      "outputs": []
    },
    {
      "cell_type": "code",
      "source": [
        "cv2.imwrite(\"Edges.png\", cv2.cvtColor(inverted_image, cv2.COLOR_RGB2BGR))"
      ],
      "metadata": {
        "id": "uERHsfn4XnCH"
      },
      "execution_count": null,
      "outputs": []
    },
    {
      "cell_type": "code",
      "source": [
        "gray_image = cv2.cvtColor(image, cv2.COLOR_BGR2GRAY) # Creates grayscale image\n",
        "\n",
        "cv2_imshow(gray_image)"
      ],
      "metadata": {
        "id": "IzRrx-lHIe47"
      },
      "execution_count": null,
      "outputs": []
    },
    {
      "cell_type": "code",
      "source": [
        "pyplot.contour(gray_image, origin=\"image\")"
      ],
      "metadata": {
        "id": "DPETmMD9Jeq9"
      },
      "execution_count": null,
      "outputs": []
    },
    {
      "cell_type": "code",
      "source": [
        "ret, thresh = cv2.threshold(gray_image, 150, 255, 0)\n",
        "\n",
        "contours, hierarchy = cv2.findContours(thresh, cv2.RETR_TREE, cv2.CHAIN_APPROX_SIMPLE)\n",
        "\n",
        "cv2.drawContours(image, contours, -1, (0, 255,0), 3)\n",
        "\n",
        "pyplot.imshow(image)"
      ],
      "metadata": {
        "id": "HSVXC8gRJmF3"
      },
      "execution_count": null,
      "outputs": []
    },
    {
      "cell_type": "code",
      "source": [
        "cv2.imwrite(\"LogoContours.png\", image)"
      ],
      "metadata": {
        "id": "CYN9N_cbOKF2"
      },
      "execution_count": null,
      "outputs": []
    },
    {
      "cell_type": "code",
      "source": [
        "!wget \"https://cdn.pixabay.com/photo/2020/07/02/09/16/insects-5362338_960_720.jpg\""
      ],
      "metadata": {
        "id": "pvJeo42lKrHl"
      },
      "execution_count": null,
      "outputs": []
    },
    {
      "cell_type": "code",
      "source": [
        "bees = cv2.imread(\"insects-5362338_960_720.jpg\")"
      ],
      "metadata": {
        "id": "8ZmLFaW6KyBk"
      },
      "execution_count": null,
      "outputs": []
    },
    {
      "cell_type": "code",
      "source": [
        "pyplot.imshow(bees)"
      ],
      "metadata": {
        "id": "4xTYGXxHK8qp"
      },
      "execution_count": null,
      "outputs": []
    },
    {
      "cell_type": "code",
      "source": [
        "cv2_imshow(bees)"
      ],
      "metadata": {
        "id": "LsI1FPDXLE1F"
      },
      "execution_count": null,
      "outputs": []
    },
    {
      "cell_type": "code",
      "source": [
        "# Convert image to grayscale\n",
        "gray_bees = cv2.cvtColor(bees, cv2.COLOR_BGR2GRAY)\n",
        "\n",
        "cv2_imshow(gray_bees)"
      ],
      "metadata": {
        "id": "llTaLq5hLJDF"
      },
      "execution_count": null,
      "outputs": []
    },
    {
      "cell_type": "code",
      "source": [
        "ret, thresh = cv2.threshold(gray_bees, 150, 255, 0)\n",
        "\n",
        "contours, hierarchy = cv2.findContours(thresh, cv2.RETR_TREE, cv2.CHAIN_APPROX_SIMPLE)\n",
        "\n",
        "cv2.drawContours(bees, contours, -1, (0, 255,0), 3)\n",
        "\n",
        "pyplot.imshow(bees)"
      ],
      "metadata": {
        "id": "uy4iGaaIL41z"
      },
      "execution_count": null,
      "outputs": []
    },
    {
      "cell_type": "code",
      "source": [
        "cv2_imshow(bees)"
      ],
      "metadata": {
        "id": "JvU8JfqtMPmu"
      },
      "execution_count": null,
      "outputs": []
    },
    {
      "cell_type": "code",
      "source": [
        "cv2.imwrite(\"BeesContours.png\", bees)"
      ],
      "metadata": {
        "id": "Y2u4VA6CNbTE"
      },
      "execution_count": null,
      "outputs": []
    },
    {
      "cell_type": "code",
      "source": [
        "bees_image = cv2.imread(\"insects-5362338_960_720.jpg\")\n",
        "\n",
        "cv2_imshow(bees_image)"
      ],
      "metadata": {
        "id": "WfALMj3nMlH3"
      },
      "execution_count": null,
      "outputs": []
    },
    {
      "cell_type": "code",
      "source": [
        "bees_edges = cv2.Canny(bees_image, 100, 200)\n",
        "\n",
        "cv2_imshow(bees_edges)"
      ],
      "metadata": {
        "id": "UY-cLXhnMvCD"
      },
      "execution_count": null,
      "outputs": []
    },
    {
      "cell_type": "code",
      "source": [
        "bees_inverted = 255 - bees_edges\n",
        "\n",
        "cv2_imshow(bees_inverted)"
      ],
      "metadata": {
        "id": "C85RTzwRNMSP"
      },
      "execution_count": null,
      "outputs": []
    },
    {
      "cell_type": "code",
      "source": [
        "cv2.imwrite(\"BeesEdges.png\", bees_inverted)"
      ],
      "metadata": {
        "id": "Hp_ZWJIuNrPL"
      },
      "execution_count": null,
      "outputs": []
    },
    {
      "cell_type": "code",
      "source": [
        "image = cv2.imread(\"313341562_572363321559545_7264443318531826572_n.jpg?_nc_cat=106&ccb=1-7&_nc_sid=5f2048&_nc_ohc=h8c5US9gy2oAX9gL1Uh&_nc_ht=scontent-lax3-2.xx&oh=00_AfBrQYVF0A_PtWItlihtqhuZham5GU0amy3iu-9Cze6sMA&oe=66086911\")\n",
        "\n",
        "cv2_imshow(image)"
      ],
      "metadata": {
        "id": "Dk-_3lJ_n13t"
      },
      "execution_count": null,
      "outputs": []
    },
    {
      "cell_type": "code",
      "source": [
        "image = cv2.resize(image, (0, 0), fx=0.75, fy=0.75) # Resize the image\n",
        "\n",
        "cv2_imshow(image) # Display the image"
      ],
      "metadata": {
        "id": "JSSuHk8qoEOT"
      },
      "execution_count": null,
      "outputs": []
    },
    {
      "cell_type": "code",
      "source": [
        "gray_image = cv2.cvtColor(image, cv2.COLOR_BGR2GRAY) # Convert image to grayscale\n",
        "\n",
        "cv2_imshow(gray_image)"
      ],
      "metadata": {
        "id": "CqMA8bRFoVYW"
      },
      "execution_count": null,
      "outputs": []
    },
    {
      "cell_type": "code",
      "source": [
        "maximum_corners = 100\n",
        "quality_level = 0.01\n",
        "minimum_distance = 10\n",
        "\n",
        "corners = cv2.goodFeaturesToTrack(gray_image, maximum_corners, quality_level,\n",
        "                                  minimum_distance) # goodFeaturesToTrack returns corners\n",
        "\n",
        "corners # returns multidimensional array of prominent corners"
      ],
      "metadata": {
        "id": "y9YZB1MnonLi"
      },
      "execution_count": null,
      "outputs": []
    },
    {
      "cell_type": "code",
      "source": [
        "import numpy\n",
        "\n",
        "corners = numpy.intp(corners) # Convert floating point numbers to whole integers (int0 deprecated)\n",
        "\n",
        "corners # Display new array"
      ],
      "metadata": {
        "id": "Nw7GCnXDpN47"
      },
      "execution_count": null,
      "outputs": []
    },
    {
      "cell_type": "code",
      "source": [
        "radius = 5\n",
        "\n",
        "color = (255, 255, 0)\n",
        "\n",
        "for corner in corners:\n",
        "  x, y = corner.ravel()\n",
        "  cv2.circle(image, (x, y), radius, color, -1)\n",
        "\n",
        "cv2_imshow(image)"
      ],
      "metadata": {
        "id": "tQg9F3jvqDG4"
      },
      "execution_count": null,
      "outputs": []
    },
    {
      "cell_type": "code",
      "source": [
        "cv2.imwrite(\"LogoCorners.png\", image)"
      ],
      "metadata": {
        "id": "c1cIYh7FsFj4"
      },
      "execution_count": null,
      "outputs": []
    }
  ]
}